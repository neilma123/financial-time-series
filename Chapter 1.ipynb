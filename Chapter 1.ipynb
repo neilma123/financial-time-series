{
 "cells": [
  {
   "cell_type": "markdown",
   "id": "6e14b55d",
   "metadata": {},
   "source": [
    "# Getting Data"
   ]
  },
  {
   "cell_type": "code",
   "execution_count": 25,
   "id": "c9ebf148",
   "metadata": {},
   "outputs": [],
   "source": [
    "def get_stock_info(ticker_symbol=\"AAPL\", period='10y'):\n",
    "    import yfinance as yf\n",
    "    import pandas as pd\n",
    "    stock_data = yf.download(ticker_symbol, period=period)\n",
    "    stock_data.reset_index(inplace=True)\n",
    "    return stock_data"
   ]
  },
  {
   "cell_type": "code",
   "execution_count": 26,
   "id": "e64bcb64",
   "metadata": {},
   "outputs": [
    {
     "name": "stdout",
     "output_type": "stream",
     "text": [
      "[*********************100%***********************]  1 of 1 completed\n"
     ]
    }
   ],
   "source": [
    "stock_data = get_stock_info()"
   ]
  },
  {
   "cell_type": "markdown",
   "id": "375b8f80",
   "metadata": {},
   "source": [
    "# Converting Prices to Returns"
   ]
  },
  {
   "cell_type": "code",
   "execution_count": 15,
   "id": "cead5096",
   "metadata": {},
   "outputs": [],
   "source": [
    "def get_returns(stock_data, colname = \"Adj Close\"):\n",
    "    # Generate returns for the column specified from (\"Open\", \"High\", \"Low\", \"Close\", \"Adj Close\")\n",
    "    \n",
    "    stock_data[\"Return\"] = stock_data[\"Adj Close\"].pct_change()\n",
    "    stock_data['Date'] = pd.to_datetime(stock_data['Date'])\n",
    "    return stock_data[[\"Date\", \"Return\"]].dropna()"
   ]
  },
  {
   "cell_type": "code",
   "execution_count": 16,
   "id": "9541f6d3",
   "metadata": {},
   "outputs": [
    {
     "name": "stdout",
     "output_type": "stream",
     "text": [
      "        Date    Return\n",
      "1 2014-07-15 -0.011716\n",
      "2 2014-07-16 -0.005665\n",
      "3 2014-07-17 -0.017831\n",
      "4 2014-07-18  0.014395\n",
      "5 2014-07-21 -0.005189\n"
     ]
    }
   ],
   "source": [
    "returns = get_returns(stock_data)\n",
    "print(returns.head())"
   ]
  },
  {
   "cell_type": "markdown",
   "id": "e8fec0c7",
   "metadata": {},
   "source": [
    "# Simple Return Formulas"
   ]
  },
  {
   "cell_type": "code",
   "execution_count": 38,
   "id": "04d47c16",
   "metadata": {},
   "outputs": [],
   "source": [
    "def simple_return_k(old_date, new_date, stock_data, colname = \"Adj Close\"):\n",
    "    # Ensure the dates are in datetime format\n",
    "    old_date = pd.to_datetime(old_date)\n",
    "    new_date = pd.to_datetime(new_date)\n",
    "    \n",
    "    # Filter the stock data for the given dates\n",
    "    old_price = stock_data.loc[stock_data['Date'] == old_date, colname].values[0]\n",
    "    new_price = stock_data.loc[stock_data['Date'] == new_date, colname].values[0]\n",
    "    \n",
    "    # Calculate the simple return\n",
    "    r_t = (new_price - old_price) / old_price\n",
    "    print(f\"P_t={old_price}, P_t{(old_date-new_date).days} = {new_price}, 1+R_t={r_t+1}, R_t = {r_t}\")\n",
    "    return r_t\n",
    "def simple_return_one(date, stock_data, colname = \"Adj Close\"):\n",
    "    date = pd.to_datetime(date)\n",
    "    curr_price = stock_data.loc[stock_data[\"Date\"] == date, colname].values[0]\n",
    "    yest_price = stock_data.loc[stock_data[\"Date\"] == date- pd.Timedelta(days=1), colname].values[0]\n",
    "    r_t = (curr_price - yest_price) / yest_price\n",
    "    print(f\"P_t = {curr_price}, P_t-1 = {yest_price}, 1+R_t = {r_t+1}, R_t = {r_t}\")\n",
    "    return r_t"
   ]
  },
  {
   "cell_type": "code",
   "execution_count": 39,
   "id": "48da6d7f",
   "metadata": {},
   "outputs": [
    {
     "name": "stdout",
     "output_type": "stream",
     "text": [
      "P_t=21.328353881835938, P_t-3 = 20.585342407226562, 1+R_t=0.9651632058092325, R_t = -0.03483679419076747\n",
      "P_t = 20.959062576293945, P_t-1 = 21.07847785949707, 1+R_t = 0.9943347292912177, R_t = -0.005665270708782301\n"
     ]
    },
    {
     "data": {
      "text/html": [
       "<div>\n",
       "<style scoped>\n",
       "    .dataframe tbody tr th:only-of-type {\n",
       "        vertical-align: middle;\n",
       "    }\n",
       "\n",
       "    .dataframe tbody tr th {\n",
       "        vertical-align: top;\n",
       "    }\n",
       "\n",
       "    .dataframe thead th {\n",
       "        text-align: right;\n",
       "    }\n",
       "</style>\n",
       "<table border=\"1\" class=\"dataframe\">\n",
       "  <thead>\n",
       "    <tr style=\"text-align: right;\">\n",
       "      <th></th>\n",
       "      <th>Date</th>\n",
       "      <th>Return</th>\n",
       "    </tr>\n",
       "  </thead>\n",
       "  <tbody>\n",
       "    <tr>\n",
       "      <th>1</th>\n",
       "      <td>2014-07-15</td>\n",
       "      <td>-0.011716</td>\n",
       "    </tr>\n",
       "    <tr>\n",
       "      <th>2</th>\n",
       "      <td>2014-07-16</td>\n",
       "      <td>-0.005665</td>\n",
       "    </tr>\n",
       "    <tr>\n",
       "      <th>3</th>\n",
       "      <td>2014-07-17</td>\n",
       "      <td>-0.017831</td>\n",
       "    </tr>\n",
       "    <tr>\n",
       "      <th>4</th>\n",
       "      <td>2014-07-18</td>\n",
       "      <td>0.014395</td>\n",
       "    </tr>\n",
       "    <tr>\n",
       "      <th>5</th>\n",
       "      <td>2014-07-21</td>\n",
       "      <td>-0.005189</td>\n",
       "    </tr>\n",
       "  </tbody>\n",
       "</table>\n",
       "</div>"
      ],
      "text/plain": [
       "        Date    Return\n",
       "1 2014-07-15 -0.011716\n",
       "2 2014-07-16 -0.005665\n",
       "3 2014-07-17 -0.017831\n",
       "4 2014-07-18  0.014395\n",
       "5 2014-07-21 -0.005189"
      ]
     },
     "execution_count": 39,
     "metadata": {},
     "output_type": "execute_result"
    }
   ],
   "source": [
    "simple_return_k(\"2014-07-14\", \"2014-07-17\", stock_data)\n",
    "simple_return_one(\"2014-07-16\", stock_data)\n",
    "returns.head()"
   ]
  },
  {
   "cell_type": "markdown",
   "id": "64795066",
   "metadata": {},
   "source": [
    "# Multiperiod Return Formulas"
   ]
  },
  {
   "cell_type": "code",
   "execution_count": 46,
   "id": "fc7f45ee",
   "metadata": {},
   "outputs": [],
   "source": [
    "def compound_return_k(old_date, new_date, stock_data, colname = \"Adj Close\"):\n",
    "    # Ensure the dates are in datetime format\n",
    "    old_date = pd.to_datetime(old_date)\n",
    "    new_date = pd.to_datetime(new_date)\n",
    "    return_array = []\n",
    "    curr_date = new_date\n",
    "    days = 0\n",
    "    while curr_date > old_date:\n",
    "        curr_price = stock_data.loc[stock_data['Date'] == curr_date, colname].values[0]\n",
    "        yest_price = stock_data.loc[stock_data['Date'] == curr_date- pd.Timedelta(days=1), colname].values[0]\n",
    "        r_t = (curr_price - yest_price) / yest_price\n",
    "        print(f\"P_t-{(new_date-curr_date).days} = {curr_price}, P_t-{(new_date-curr_date).days+1} = {yest_price}, 1+R_t = {r_t+1}, R_t = {r_t}\")\n",
    "        return_array.append(1+r_t)\n",
    "        curr_date = curr_date- pd.Timedelta(days=1)\n",
    "        days += 1\n",
    "    print(\"List of Returns (1+R_t)\", return_array)\n",
    "    import numpy as np\n",
    "    print(\"Multiperiod Compound Return:\", np.prod(return_array))\n",
    "    return np.prod(return_array)"
   ]
  },
  {
   "cell_type": "code",
   "execution_count": 47,
   "id": "2a53262b",
   "metadata": {},
   "outputs": [
    {
     "name": "stdout",
     "output_type": "stream",
     "text": [
      "P_t-0 = 20.585342407226562, P_t-1 = 20.959062576293945, 1+R_t = 0.9821690417829048, R_t = -0.017830958217095287\n",
      "P_t-1 = 20.959062576293945, P_t-2 = 21.07847785949707, 1+R_t = 0.9943347292912177, R_t = -0.005665270708782301\n",
      "P_t-2 = 21.07847785949707, P_t-3 = 21.328353881835938, 1+R_t = 0.9882843268766432, R_t = -0.011715673123356763\n",
      "List of Returns (1+R_t) [0.9821690417829048, 0.9943347292912177, 0.9882843268766432]\n",
      "Multiperiod Compound Return: 0.9651632058092326\n"
     ]
    },
    {
     "data": {
      "text/plain": [
       "0.9651632058092326"
      ]
     },
     "execution_count": 47,
     "metadata": {},
     "output_type": "execute_result"
    }
   ],
   "source": [
    "compound_return_k(\"2014-07-14\", \"2014-07-17\", stock_data)"
   ]
  }
 ],
 "metadata": {
  "kernelspec": {
   "display_name": "Python 3 (ipykernel)",
   "language": "python",
   "name": "python3"
  },
  "language_info": {
   "codemirror_mode": {
    "name": "ipython",
    "version": 3
   },
   "file_extension": ".py",
   "mimetype": "text/x-python",
   "name": "python",
   "nbconvert_exporter": "python",
   "pygments_lexer": "ipython3",
   "version": "3.8.8"
  }
 },
 "nbformat": 4,
 "nbformat_minor": 5
}
